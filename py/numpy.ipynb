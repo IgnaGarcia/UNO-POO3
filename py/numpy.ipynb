{
 "cells": [
  {
   "cell_type": "markdown",
   "id": "733b43b9",
   "metadata": {},
   "source": [
    "# numpy"
   ]
  },
  {
   "cell_type": "markdown",
   "id": "ef19406e",
   "metadata": {},
   "source": [
    "## Basicas de numpy"
   ]
  },
  {
   "cell_type": "code",
   "execution_count": 16,
   "id": "336242a9",
   "metadata": {},
   "outputs": [],
   "source": [
    "import numpy as np\n",
    "import math"
   ]
  },
  {
   "cell_type": "markdown",
   "id": "64753c94",
   "metadata": {},
   "source": [
    "Creamos arrays"
   ]
  },
  {
   "cell_type": "code",
   "execution_count": 22,
   "id": "8b3a5677",
   "metadata": {},
   "outputs": [],
   "source": [
    "arr1 = np.array([[1,2,3],[4,5,6]])\n",
    "arr2 = np.array([20,20,30])\n",
    "arr4 = np.array([20,30,40,50])"
   ]
  },
  {
   "cell_type": "code",
   "execution_count": 18,
   "id": "f675c89d",
   "metadata": {},
   "outputs": [
    {
     "name": "stdout",
     "output_type": "stream",
     "text": [
      "[ 4.  9. 16.]\n",
      "[20 20 30]\n"
     ]
    }
   ],
   "source": [
    "print(arr2)"
   ]
  },
  {
   "cell_type": "markdown",
   "id": "962f036a",
   "metadata": {},
   "source": [
    "Imprimimos el array y vemos el tipo de dato"
   ]
  },
  {
   "cell_type": "code",
   "execution_count": 21,
   "id": "40de9695",
   "metadata": {},
   "outputs": [
    {
     "name": "stdout",
     "output_type": "stream",
     "text": [
      "[ 4.  9. 16.]\n"
     ]
    },
    {
     "data": {
      "text/plain": [
       "dtype('float64')"
      ]
     },
     "execution_count": 21,
     "metadata": {},
     "output_type": "execute_result"
    }
   ],
   "source": [
    "arr3 = np.array([4,9,16.])\n",
    "print(arr3)\n",
    "arr3.dtype"
   ]
  },
  {
   "cell_type": "markdown",
   "id": "9e65d3d6",
   "metadata": {},
   "source": [
    "Operamos sobre el array como si fuera un simple numero"
   ]
  },
  {
   "cell_type": "code",
   "execution_count": 24,
   "id": "f8733d41",
   "metadata": {},
   "outputs": [
    {
     "name": "stdout",
     "output_type": "stream",
     "text": [
      "[[2 3 4]\n",
      " [5 6 7]]\n",
      "[[1 2 3]\n",
      " [4 5 6]]\n"
     ]
    }
   ],
   "source": [
    "print(arr1 + 1)\n",
    "print(arr1)"
   ]
  },
  {
   "cell_type": "code",
   "execution_count": 25,
   "id": "45025db7",
   "metadata": {},
   "outputs": [
    {
     "name": "stdout",
     "output_type": "stream",
     "text": [
      "[[10 20 30]\n",
      " [40 50 60]]\n"
     ]
    }
   ],
   "source": [
    "print(arr1 * 10)"
   ]
  },
  {
   "cell_type": "code",
   "execution_count": 27,
   "id": "597e52d2",
   "metadata": {},
   "outputs": [
    {
     "name": "stdout",
     "output_type": "stream",
     "text": [
      "[150 360]\n"
     ]
    }
   ],
   "source": [
    "print(arr1 @ arr2)"
   ]
  },
  {
   "cell_type": "markdown",
   "id": "46d301a0",
   "metadata": {},
   "source": [
    "## Universal Functions (ufunc)"
   ]
  },
  {
   "cell_type": "code",
   "execution_count": 33,
   "id": "36d4ce3e",
   "metadata": {},
   "outputs": [
    {
     "name": "stdout",
     "output_type": "stream",
     "text": [
      "[2. 3. 4.]\n",
      "[4.47213595 5.47722558 6.32455532 7.07106781]\n"
     ]
    }
   ],
   "source": [
    "print(np.sqrt(arr3))\n",
    "print(np.sqrt(arr4))"
   ]
  },
  {
   "cell_type": "code",
   "execution_count": 30,
   "id": "845f4a46",
   "metadata": {},
   "outputs": [
    {
     "name": "stdout",
     "output_type": "stream",
     "text": [
      "29.0\n",
      "[5 7 9]\n",
      "21\n"
     ]
    }
   ],
   "source": [
    "print(arr3.sum())\n",
    "print(arr1.sum(axis=0))\n",
    "print(arr1.sum())"
   ]
  },
  {
   "cell_type": "markdown",
   "id": "cbde0a1a",
   "metadata": {},
   "source": [
    "## Selectores"
   ]
  },
  {
   "cell_type": "markdown",
   "id": "66f11391",
   "metadata": {},
   "source": [
    "Obtiene un subconjunto del arreglo, incluyendo la pocision inicial excluyendo la final"
   ]
  },
  {
   "cell_type": "code",
   "execution_count": 39,
   "id": "d630a44b",
   "metadata": {},
   "outputs": [
    {
     "name": "stdout",
     "output_type": "stream",
     "text": [
      "[4. 9.]\n",
      "[[1 2]\n",
      " [4 5]]\n",
      "[40 50]\n"
     ]
    }
   ],
   "source": [
    "print(arr3[0:2])\n",
    "print(arr1[:,:2])\n",
    "print(arr4[2:])"
   ]
  },
  {
   "cell_type": "markdown",
   "id": "e066e8bf",
   "metadata": {},
   "source": [
    "## Constructores"
   ]
  },
  {
   "cell_type": "code",
   "execution_count": null,
   "id": "80ffe111",
   "metadata": {},
   "outputs": [],
   "source": [
    "Crea un array con elementos dentro del rango 0 a n, creciendo de a 1"
   ]
  },
  {
   "cell_type": "code",
   "execution_count": 45,
   "id": "6c01fd33",
   "metadata": {},
   "outputs": [
    {
     "name": "stdout",
     "output_type": "stream",
     "text": [
      "[0 1 2 3 4 5]\n",
      "[0 1 2 3 4 5 6 7 8 9]\n"
     ]
    }
   ],
   "source": [
    "arr5 = np.arange(1*6)\n",
    "arr7 = np.arange(10)\n",
    "print(arr5)\n",
    "print(arr7)"
   ]
  },
  {
   "cell_type": "code",
   "execution_count": null,
   "id": "fd463a5e",
   "metadata": {},
   "outputs": [],
   "source": [
    "reshape() nos permite reorganizar un array, el primer parametro es la cantidad de filas y el segundo las columnas"
   ]
  },
  {
   "cell_type": "code",
   "execution_count": 44,
   "id": "e70698e1",
   "metadata": {},
   "outputs": [
    {
     "name": "stdout",
     "output_type": "stream",
     "text": [
      "[[ 0  1  2  3  4]\n",
      " [ 5  6  7  8  9]\n",
      " [10 11 12 13 14]]\n"
     ]
    }
   ],
   "source": [
    "arr6 = np.arange(2*5).reshape(2,5)\n",
    "print(arr6)"
   ]
  },
  {
   "cell_type": "markdown",
   "id": "3fc93d6b",
   "metadata": {},
   "source": [
    "## Views"
   ]
  },
  {
   "cell_type": "markdown",
   "id": "49585ad5",
   "metadata": {},
   "source": [
    "Los subarrays creados con selectores funcionan a traves de referencias hacia el array original, toda modificacion hecha al subarray se vera reflejada en la original"
   ]
  },
  {
   "cell_type": "code",
   "execution_count": 52,
   "id": "5944accd",
   "metadata": {},
   "outputs": [
    {
     "name": "stdout",
     "output_type": "stream",
     "text": [
      "[[11 22]\n",
      " [44 55]]\n",
      "[[99 22]\n",
      " [44 55]]\n",
      "[[99 22 33]\n",
      " [44 55 66]]\n"
     ]
    }
   ],
   "source": [
    "arr8 = np.array([[11,22,33],[44,55,66]])\n",
    "sarr = arr8[:, :2]\n",
    "print(sarr)\n",
    "sarr[0,0] = 99\n",
    "print(sarr)\n",
    "print(arr8)"
   ]
  }
 ],
 "metadata": {
  "kernelspec": {
   "display_name": "Python 3 (ipykernel)",
   "language": "python",
   "name": "python3"
  },
  "language_info": {
   "codemirror_mode": {
    "name": "ipython",
    "version": 3
   },
   "file_extension": ".py",
   "mimetype": "text/x-python",
   "name": "python",
   "nbconvert_exporter": "python",
   "pygments_lexer": "ipython3",
   "version": "3.8.10"
  }
 },
 "nbformat": 4,
 "nbformat_minor": 5
}
