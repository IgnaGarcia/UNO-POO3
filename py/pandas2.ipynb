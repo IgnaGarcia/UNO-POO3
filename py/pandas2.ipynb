{
 "cells": [
  {
   "cell_type": "markdown",
   "id": "10da3bb9",
   "metadata": {},
   "source": [
    "# pandas 2"
   ]
  },
  {
   "cell_type": "code",
   "execution_count": 4,
   "id": "56a9a521",
   "metadata": {},
   "outputs": [],
   "source": [
    "import pandas as pd"
   ]
  },
  {
   "cell_type": "code",
   "execution_count": 93,
   "id": "e867249c",
   "metadata": {},
   "outputs": [],
   "source": [
    "# set de datos\n",
    "# el index es opcional. Pandas genera un index en forma automática, en caso de que no sea provisto\n",
    "data = [\n",
    "    [ \"Pedro\",   11, \"Italia\",     4.5, \"Europa\"  ],\n",
    "    [ \"Pablo\",   33, \"Argentina\",  5.1, \"América\" ],\n",
    "    [ \"José\",    22, \"Inglaterra\", 7.2, \"Europa\"  ],\n",
    "    [ \"María\",   55, \"Argentina\",  3.5, \"América\" ],\n",
    "    [ \"Celeste\", 22, \"España\",     3.3, \"Europa\"  ],   \n",
    "]\n",
    "cols = [\"nombre\", \"edad\", \"nacionalidad\", \"puntaje\", \"continente\"]\n",
    "df = pd.DataFrame(data=data, columns=cols)"
   ]
  },
  {
   "cell_type": "code",
   "execution_count": 13,
   "id": "f830f474",
   "metadata": {},
   "outputs": [
    {
     "data": {
      "text/html": [
       "<div>\n",
       "<style scoped>\n",
       "    .dataframe tbody tr th:only-of-type {\n",
       "        vertical-align: middle;\n",
       "    }\n",
       "\n",
       "    .dataframe tbody tr th {\n",
       "        vertical-align: top;\n",
       "    }\n",
       "\n",
       "    .dataframe thead th {\n",
       "        text-align: right;\n",
       "    }\n",
       "</style>\n",
       "<table border=\"1\" class=\"dataframe\">\n",
       "  <thead>\n",
       "    <tr style=\"text-align: right;\">\n",
       "      <th></th>\n",
       "      <th>nombre</th>\n",
       "      <th>edad</th>\n",
       "      <th>nacionalidad</th>\n",
       "      <th>puntaje</th>\n",
       "      <th>continente</th>\n",
       "    </tr>\n",
       "  </thead>\n",
       "  <tbody>\n",
       "    <tr>\n",
       "      <th>0</th>\n",
       "      <td>Pedro</td>\n",
       "      <td>11</td>\n",
       "      <td>Italia</td>\n",
       "      <td>4.5</td>\n",
       "      <td>Europa</td>\n",
       "    </tr>\n",
       "    <tr>\n",
       "      <th>1</th>\n",
       "      <td>Pablo</td>\n",
       "      <td>33</td>\n",
       "      <td>Argentina</td>\n",
       "      <td>5.1</td>\n",
       "      <td>América</td>\n",
       "    </tr>\n",
       "    <tr>\n",
       "      <th>2</th>\n",
       "      <td>José</td>\n",
       "      <td>22</td>\n",
       "      <td>Inglaterra</td>\n",
       "      <td>7.2</td>\n",
       "      <td>Europa</td>\n",
       "    </tr>\n",
       "    <tr>\n",
       "      <th>3</th>\n",
       "      <td>María</td>\n",
       "      <td>55</td>\n",
       "      <td>Argentina</td>\n",
       "      <td>3.5</td>\n",
       "      <td>América</td>\n",
       "    </tr>\n",
       "    <tr>\n",
       "      <th>4</th>\n",
       "      <td>Celeste</td>\n",
       "      <td>22</td>\n",
       "      <td>España</td>\n",
       "      <td>3.3</td>\n",
       "      <td>Europa</td>\n",
       "    </tr>\n",
       "  </tbody>\n",
       "</table>\n",
       "</div>"
      ],
      "text/plain": [
       "    nombre  edad nacionalidad  puntaje continente\n",
       "0    Pedro    11       Italia      4.5     Europa\n",
       "1    Pablo    33    Argentina      5.1    América\n",
       "2     José    22   Inglaterra      7.2     Europa\n",
       "3    María    55    Argentina      3.5    América\n",
       "4  Celeste    22       España      3.3     Europa"
      ]
     },
     "execution_count": 13,
     "metadata": {},
     "output_type": "execute_result"
    }
   ],
   "source": [
    "df"
   ]
  },
  {
   "cell_type": "markdown",
   "id": "1fa1897f",
   "metadata": {},
   "source": [
    "1- obtener una vista con unicamente la col de nombre y edad"
   ]
  },
  {
   "cell_type": "code",
   "execution_count": 18,
   "id": "4660f056",
   "metadata": {},
   "outputs": [
    {
     "data": {
      "text/html": [
       "<div>\n",
       "<style scoped>\n",
       "    .dataframe tbody tr th:only-of-type {\n",
       "        vertical-align: middle;\n",
       "    }\n",
       "\n",
       "    .dataframe tbody tr th {\n",
       "        vertical-align: top;\n",
       "    }\n",
       "\n",
       "    .dataframe thead th {\n",
       "        text-align: right;\n",
       "    }\n",
       "</style>\n",
       "<table border=\"1\" class=\"dataframe\">\n",
       "  <thead>\n",
       "    <tr style=\"text-align: right;\">\n",
       "      <th></th>\n",
       "      <th>nombre</th>\n",
       "      <th>edad</th>\n",
       "    </tr>\n",
       "  </thead>\n",
       "  <tbody>\n",
       "    <tr>\n",
       "      <th>0</th>\n",
       "      <td>Pedro</td>\n",
       "      <td>11</td>\n",
       "    </tr>\n",
       "    <tr>\n",
       "      <th>1</th>\n",
       "      <td>Pablo</td>\n",
       "      <td>33</td>\n",
       "    </tr>\n",
       "    <tr>\n",
       "      <th>2</th>\n",
       "      <td>José</td>\n",
       "      <td>22</td>\n",
       "    </tr>\n",
       "    <tr>\n",
       "      <th>3</th>\n",
       "      <td>María</td>\n",
       "      <td>55</td>\n",
       "    </tr>\n",
       "    <tr>\n",
       "      <th>4</th>\n",
       "      <td>Celeste</td>\n",
       "      <td>22</td>\n",
       "    </tr>\n",
       "  </tbody>\n",
       "</table>\n",
       "</div>"
      ],
      "text/plain": [
       "    nombre  edad\n",
       "0    Pedro    11\n",
       "1    Pablo    33\n",
       "2     José    22\n",
       "3    María    55\n",
       "4  Celeste    22"
      ]
     },
     "execution_count": 18,
     "metadata": {},
     "output_type": "execute_result"
    }
   ],
   "source": [
    "df[[\"nombre\", \"edad\"]]\n",
    "df.loc[:, [\"nombre\", \"edad\"]]"
   ]
  },
  {
   "cell_type": "markdown",
   "id": "10eb9308",
   "metadata": {},
   "source": [
    "2- quedarse con las filas 1 a 3"
   ]
  },
  {
   "cell_type": "code",
   "execution_count": 21,
   "id": "18eff4df",
   "metadata": {},
   "outputs": [
    {
     "data": {
      "text/html": [
       "<div>\n",
       "<style scoped>\n",
       "    .dataframe tbody tr th:only-of-type {\n",
       "        vertical-align: middle;\n",
       "    }\n",
       "\n",
       "    .dataframe tbody tr th {\n",
       "        vertical-align: top;\n",
       "    }\n",
       "\n",
       "    .dataframe thead th {\n",
       "        text-align: right;\n",
       "    }\n",
       "</style>\n",
       "<table border=\"1\" class=\"dataframe\">\n",
       "  <thead>\n",
       "    <tr style=\"text-align: right;\">\n",
       "      <th></th>\n",
       "      <th>nombre</th>\n",
       "      <th>edad</th>\n",
       "    </tr>\n",
       "  </thead>\n",
       "  <tbody>\n",
       "    <tr>\n",
       "      <th>1</th>\n",
       "      <td>Pablo</td>\n",
       "      <td>33</td>\n",
       "    </tr>\n",
       "    <tr>\n",
       "      <th>2</th>\n",
       "      <td>José</td>\n",
       "      <td>22</td>\n",
       "    </tr>\n",
       "    <tr>\n",
       "      <th>3</th>\n",
       "      <td>María</td>\n",
       "      <td>55</td>\n",
       "    </tr>\n",
       "  </tbody>\n",
       "</table>\n",
       "</div>"
      ],
      "text/plain": [
       "  nombre  edad\n",
       "1  Pablo    33\n",
       "2   José    22\n",
       "3  María    55"
      ]
     },
     "execution_count": 21,
     "metadata": {},
     "output_type": "execute_result"
    }
   ],
   "source": [
    "df.loc[1:3, [\"nombre\", \"edad\"]]"
   ]
  },
  {
   "cell_type": "markdown",
   "id": "ea6bdb2c",
   "metadata": {},
   "source": [
    "3- filtrar mayores a 22 años"
   ]
  },
  {
   "cell_type": "code",
   "execution_count": 39,
   "id": "e5373651",
   "metadata": {},
   "outputs": [
    {
     "data": {
      "text/html": [
       "<div>\n",
       "<style scoped>\n",
       "    .dataframe tbody tr th:only-of-type {\n",
       "        vertical-align: middle;\n",
       "    }\n",
       "\n",
       "    .dataframe tbody tr th {\n",
       "        vertical-align: top;\n",
       "    }\n",
       "\n",
       "    .dataframe thead th {\n",
       "        text-align: right;\n",
       "    }\n",
       "</style>\n",
       "<table border=\"1\" class=\"dataframe\">\n",
       "  <thead>\n",
       "    <tr style=\"text-align: right;\">\n",
       "      <th></th>\n",
       "      <th>nombre</th>\n",
       "      <th>edad</th>\n",
       "    </tr>\n",
       "  </thead>\n",
       "  <tbody>\n",
       "    <tr>\n",
       "      <th>1</th>\n",
       "      <td>Pablo</td>\n",
       "      <td>33</td>\n",
       "    </tr>\n",
       "    <tr>\n",
       "      <th>3</th>\n",
       "      <td>María</td>\n",
       "      <td>55</td>\n",
       "    </tr>\n",
       "  </tbody>\n",
       "</table>\n",
       "</div>"
      ],
      "text/plain": [
       "  nombre  edad\n",
       "1  Pablo    33\n",
       "3  María    55"
      ]
     },
     "execution_count": 39,
     "metadata": {},
     "output_type": "execute_result"
    }
   ],
   "source": [
    "nye = df[\"edad\"]\n",
    "df.loc[nye > 22, [\"nombre\", \"edad\"]]"
   ]
  },
  {
   "cell_type": "markdown",
   "id": "eb5ba549",
   "metadata": {},
   "source": [
    "4- duplicar puntaje de filas de America"
   ]
  },
  {
   "cell_type": "code",
   "execution_count": 94,
   "id": "afa9e389",
   "metadata": {},
   "outputs": [
    {
     "data": {
      "text/html": [
       "<div>\n",
       "<style scoped>\n",
       "    .dataframe tbody tr th:only-of-type {\n",
       "        vertical-align: middle;\n",
       "    }\n",
       "\n",
       "    .dataframe tbody tr th {\n",
       "        vertical-align: top;\n",
       "    }\n",
       "\n",
       "    .dataframe thead th {\n",
       "        text-align: right;\n",
       "    }\n",
       "</style>\n",
       "<table border=\"1\" class=\"dataframe\">\n",
       "  <thead>\n",
       "    <tr style=\"text-align: right;\">\n",
       "      <th></th>\n",
       "      <th>nombre</th>\n",
       "      <th>edad</th>\n",
       "      <th>nacionalidad</th>\n",
       "      <th>puntaje</th>\n",
       "      <th>continente</th>\n",
       "    </tr>\n",
       "  </thead>\n",
       "  <tbody>\n",
       "    <tr>\n",
       "      <th>0</th>\n",
       "      <td>Pedro</td>\n",
       "      <td>11</td>\n",
       "      <td>Italia</td>\n",
       "      <td>4.5</td>\n",
       "      <td>Europa</td>\n",
       "    </tr>\n",
       "    <tr>\n",
       "      <th>1</th>\n",
       "      <td>Pablo</td>\n",
       "      <td>33</td>\n",
       "      <td>Argentina</td>\n",
       "      <td>10.2</td>\n",
       "      <td>América</td>\n",
       "    </tr>\n",
       "    <tr>\n",
       "      <th>2</th>\n",
       "      <td>José</td>\n",
       "      <td>22</td>\n",
       "      <td>Inglaterra</td>\n",
       "      <td>7.2</td>\n",
       "      <td>Europa</td>\n",
       "    </tr>\n",
       "    <tr>\n",
       "      <th>3</th>\n",
       "      <td>María</td>\n",
       "      <td>55</td>\n",
       "      <td>Argentina</td>\n",
       "      <td>7.0</td>\n",
       "      <td>América</td>\n",
       "    </tr>\n",
       "    <tr>\n",
       "      <th>4</th>\n",
       "      <td>Celeste</td>\n",
       "      <td>22</td>\n",
       "      <td>España</td>\n",
       "      <td>3.3</td>\n",
       "      <td>Europa</td>\n",
       "    </tr>\n",
       "  </tbody>\n",
       "</table>\n",
       "</div>"
      ],
      "text/plain": [
       "    nombre  edad nacionalidad  puntaje continente\n",
       "0    Pedro    11       Italia      4.5     Europa\n",
       "1    Pablo    33    Argentina     10.2    América\n",
       "2     José    22   Inglaterra      7.2     Europa\n",
       "3    María    55    Argentina      7.0    América\n",
       "4  Celeste    22       España      3.3     Europa"
      ]
     },
     "execution_count": 94,
     "metadata": {},
     "output_type": "execute_result"
    }
   ],
   "source": [
    "america = df.loc[df[\"continente\"] == \"América\", \"puntaje\"] * 2 \n",
    "df.loc[america.index, \"puntaje\"] = america\n",
    "df"
   ]
  }
 ],
 "metadata": {
  "kernelspec": {
   "display_name": "Python 3 (ipykernel)",
   "language": "python",
   "name": "python3"
  },
  "language_info": {
   "codemirror_mode": {
    "name": "ipython",
    "version": 3
   },
   "file_extension": ".py",
   "mimetype": "text/x-python",
   "name": "python",
   "nbconvert_exporter": "python",
   "pygments_lexer": "ipython3",
   "version": "3.8.10"
  }
 },
 "nbformat": 4,
 "nbformat_minor": 5
}
